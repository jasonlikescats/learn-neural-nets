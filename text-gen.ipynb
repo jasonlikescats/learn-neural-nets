{
 "cells": [
  {
   "cell_type": "code",
   "execution_count": 9,
   "id": "af05478e-92e5-49a0-9e9d-389327f1d4a3",
   "metadata": {},
   "outputs": [],
   "source": [
    "from graphviz import Digraph\n",
    "import random\n",
    "import numpy as np\n",
    "import torch\n",
    "import matplotlib.pyplot as plt\n",
    "import string\n",
    "%matplotlib inline"
   ]
  },
  {
   "cell_type": "code",
   "execution_count": 5,
   "id": "75d11b33",
   "metadata": {},
   "outputs": [
    {
     "name": "stdout",
     "output_type": "stream",
     "text": [
      "['emma', 'olivia', 'ava', 'isabella', 'sophia', 'charlotte', 'mia', 'amelia', 'harper', 'evelyn', 'abigail', 'emily', 'elizabeth', 'mila', 'ella', 'avery', 'sofia', 'camila', 'aria', 'scarlett']\n"
     ]
    }
   ],
   "source": [
    "# read names.txt\n",
    "with open('names.txt') as f:\n",
    "    names = f.read().splitlines()\n",
    "\n",
    "print(names[:20])"
   ]
  },
  {
   "cell_type": "code",
   "execution_count": 54,
   "id": "8152f10f",
   "metadata": {},
   "outputs": [],
   "source": [
    "class NGramModel:\n",
    "    def __init__(self, n):\n",
    "        self.n = n\n",
    "        self.vocab = [\".\"] + list(string.ascii_lowercase) # '.' is start/end token\n",
    "        self.counts = torch.zeros((len(self.vocab),) * n)\n",
    "\n",
    "    def train(self, words):\n",
    "        for w in words:\n",
    "            encoded = self._encode(w)\n",
    "            # iterate through n-grams\n",
    "            for i in range(0, len(encoded) - self.n + 1):\n",
    "                ngram = encoded[i:i + self.n]\n",
    "                self.counts[tuple(ngram)] += 1\n",
    "\n",
    "    def predict(self):\n",
    "        # start with n-1 start tokens\n",
    "        prefix = [0] * (self.n - 1)\n",
    "\n",
    "        # generate a word\n",
    "        word = []\n",
    "        while True:\n",
    "            # get the next token\n",
    "            token = torch.multinomial(self.counts[tuple(prefix)], 1).item()\n",
    "            word.append(token)\n",
    "            prefix = prefix[1:] + [token]\n",
    "            if token == 0:\n",
    "                break\n",
    "        return self._decode(word)\n",
    "\n",
    "    def _encode(self, word):\n",
    "        # pad the word with n-1 start tokens, and a trailing end token\n",
    "        padded_word = \".\" * (self.n - 1) + word + \".\"\n",
    "        encoded = [self.vocab.index(c) for c in padded_word]\n",
    "        return encoded\n",
    "\n",
    "    def _decode(self, encoded):\n",
    "        return \"\".join([self.vocab[i] for i in encoded])\n"
   ]
  },
  {
   "cell_type": "code",
   "execution_count": 58,
   "id": "6c88e28d",
   "metadata": {},
   "outputs": [],
   "source": [
    "bigram = NGramModel(2)\n",
    "bigram.train(names)\n",
    "\n",
    "trigram = NGramModel(3)\n",
    "trigram.train(names)\n",
    "\n",
    "quadgram = NGramModel(4)\n",
    "quadgram.train(names)"
   ]
  },
  {
   "cell_type": "code",
   "execution_count": null,
   "id": "8c1755e0",
   "metadata": {},
   "outputs": [
    {
     "name": "stdout",
     "output_type": "stream",
     "text": [
      "BIGRAM\n",
      "ya.\n",
      "syahavilin.\n",
      "dleekahmangonya.\n",
      "tryahe.\n",
      "chen.\n",
      "ena.\n",
      "da.\n",
      "amiiae.\n",
      "a.\n",
      "keles.\n"
     ]
    },
    {
     "ename": "NameError",
     "evalue": "name 'println' is not defined",
     "output_type": "error",
     "traceback": [
      "\u001b[31m---------------------------------------------------------------------------\u001b[39m",
      "\u001b[31mNameError\u001b[39m                                 Traceback (most recent call last)",
      "\u001b[36mCell\u001b[39m\u001b[36m \u001b[39m\u001b[32mIn[62]\u001b[39m\u001b[32m, line 7\u001b[39m\n\u001b[32m      4\u001b[39m \u001b[38;5;28;01mfor\u001b[39;00m i \u001b[38;5;129;01min\u001b[39;00m \u001b[38;5;28mrange\u001b[39m(\u001b[32m10\u001b[39m):\n\u001b[32m      5\u001b[39m     \u001b[38;5;28mprint\u001b[39m(bigram.predict())\n\u001b[32m----> \u001b[39m\u001b[32m7\u001b[39m \u001b[43mprintln\u001b[49m(\u001b[33m\"\u001b[39m\u001b[33m---\u001b[39m\u001b[33m\"\u001b[39m)\n\u001b[32m      8\u001b[39m \u001b[38;5;28mprint\u001b[39m(\u001b[33m\"\u001b[39m\u001b[33mTRIGRAM\u001b[39m\u001b[33m\"\u001b[39m)\n\u001b[32m      9\u001b[39m \u001b[38;5;28;01mfor\u001b[39;00m i \u001b[38;5;129;01min\u001b[39;00m \u001b[38;5;28mrange\u001b[39m(\u001b[32m10\u001b[39m):\n",
      "\u001b[31mNameError\u001b[39m: name 'println' is not defined"
     ]
    }
   ],
   "source": [
    "torch.manual_seed(42)\n",
    "\n",
    "print(\"BIGRAM\")\n",
    "for i in range(10):\n",
    "    print(bigram.predict())\n",
    "\n",
    "print()\n",
    "print(\"TRIGRAM\")\n",
    "for i in range(10):\n",
    "    print(trigram.predict())\n",
    "\n",
    "print()\n",
    "print(\"QUADGRAM\")\n",
    "for i in range(10):\n",
    "    print(quadgram.predict())\n"
   ]
  }
 ],
 "metadata": {
  "kernelspec": {
   "display_name": "Python (torch-env)",
   "language": "python",
   "name": "torch-env"
  },
  "language_info": {
   "codemirror_mode": {
    "name": "ipython",
    "version": 3
   },
   "file_extension": ".py",
   "mimetype": "text/x-python",
   "name": "python",
   "nbconvert_exporter": "python",
   "pygments_lexer": "ipython3",
   "version": "3.12.2"
  }
 },
 "nbformat": 4,
 "nbformat_minor": 5
}
